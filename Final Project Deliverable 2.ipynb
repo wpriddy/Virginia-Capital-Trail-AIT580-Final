{
 "cells": [
  {
   "cell_type": "markdown",
   "id": "6f2b8fbf",
   "metadata": {},
   "source": [
    "### Deliverable 2 – Data Analysis Template\n",
    "\n",
    "Explore and present analysis of the dataset using relevant tools discussed in the course (R, SQL, Python, Tableau, etc.):\n",
    "\n",
    "1)\tPrepare relevant descriptive statistics and visualizations for selected data items (i.e., you don’t need to analyze all\n",
    "the items in the dataset if there is a very large number of them):\n",
    "\n",
    "    a)\tPrepare and include appropriate statistics and visualizations, for example:\n",
    "        i) Scatterplots, boxplots, correlation analyses, regression analyses, hypothesis tests\n",
    "        ii) Include an SQL schema for the data, and demonstrate a few basic SQL-based queries of the dataset\n",
    "        \n",
    "    b)\tGraphics and tables must follow good visualization practices discussed in the course\n",
    "        i) See Chapter 4 of the textbook for guidance\n",
    "        \n",
    "2)\tInterpret the results; what conclusions can be supported?\n",
    "\n",
    "    a)\tThis should reflect answers to the specific questions specified above\n",
    "    b)\tDescribe the value obtained from the study\n",
    "    c)\tInclude explanations of any technical terms relevant to the project domain\n",
    "\n",
    "\n",
    "##### Project deliverable 2 is worth 25% of your overall project assignment grade. It is due by Sunday, 11:59 pm ET, at the end of week 7."
   ]
  },
  {
   "cell_type": "markdown",
   "id": "55467277",
   "metadata": {},
   "source": [
    "#### Reading Data\n",
    "\n",
    "The Virginia Capital Trail Usage data was accessed through the Virginia Open Data Portal API. Two datasets were initially pulled, one with usage of trail data by hour for different usage counter locations (2016-2020) and another with the coordinates of the usage counter locations. "
   ]
  },
  {
   "cell_type": "code",
   "execution_count": 18,
   "id": "b5553f8e",
   "metadata": {},
   "outputs": [],
   "source": [
    "# Read in the Data from https://data.virginia.gov/\n",
    "import pandas as pd\n",
    "from sodapy import Socrata\n",
    "\n",
    "# Authenticated client:\n",
    "client = Socrata('data.virginia.gov',\n",
    "                 'jN2rJlZ2GTuwAh26szWnIx2cL',\n",
    "                 username=\"wpriddy@gmu.edu\",\n",
    "                 password=\"myAIT580#50\")\n",
    "\n",
    "# Limit greater than number of rows to get complete data\n",
    "results_usage = client.get(\"ryby-ewy7\", limit=45000)\n",
    "\n",
    "#Counter Location\n",
    "counter_loc = client.get(\"yv9b-k8uu\", limit=10)"
   ]
  },
  {
   "cell_type": "markdown",
   "id": "1d0e51af",
   "metadata": {},
   "source": [
    "#### Clean up the Counter Location Data"
   ]
  },
  {
   "cell_type": "code",
   "execution_count": 19,
   "id": "4746dd71",
   "metadata": {},
   "outputs": [],
   "source": [
    "# Parse JSON file to get relevant data points: lat, long, and counter name\n",
    "counter_dataframe = pd.DataFrame({i['counters']: i['geocoded_column']['coordinates'] for i in counter_loc}).T.reset_index()\n",
    "\n",
    "# Rename columns\n",
    "counter_dataframe.columns = ['Counter', 'long', 'lat']\n",
    "\n",
    "# Counter location name mapping dictionary\n",
    "counter_names = {'Capital Trail - 1 Almond Creek':'almond_creek',\n",
    "                 'Capital Trail - 3 Willis Church':'willis_church', \n",
    "                 'Capital Trail - 2 Four Mile Creek':'four_mile', \n",
    "                 'Capital Trail - 4 Herring Creek': 'herring_creek', \n",
    "                 'Capital Trail - 7 Chickahominy River':'chickahominy', \n",
    "                 'Capital Trail - Greenspring':'greenspring'}\n",
    "\n",
    "# Map names to Counter DataFrame\n",
    "counter_dataframe['name_map'] = counter_dataframe['Counter'].map(counter_names)\n",
    "\n",
    "# Create Hash Map for Lat/Long \n",
    "lat_map = {name: counter_dataframe.loc[counter_dataframe['name_map'] == name]['lat'].reset_index(drop=True)[0] \n",
    "           for name in counter_names.values()}\n",
    "\n",
    "long_map = {name: counter_dataframe.loc[counter_dataframe['name_map'] == name]['long'].reset_index(drop=True)[0]\n",
    "           for name in counter_names.values()}\n"
   ]
  },
  {
   "cell_type": "markdown",
   "id": "304c9032",
   "metadata": {},
   "source": [
    "#### Clean up Trail Usage Data"
   ]
  },
  {
   "cell_type": "code",
   "execution_count": 20,
   "id": "a7eeda0d",
   "metadata": {},
   "outputs": [],
   "source": [
    "# Read API JSON output into pd.DataFrame\n",
    "usage_data = pd.DataFrame.from_records(results_usage)\n",
    "\n",
    "# Convert columns to numeric\n",
    "for i in usage_data.columns:\n",
    "    if i != 'date':\n",
    "        usage_data[i] = pd.to_numeric(usage_data[i])\n",
    "\n",
    "# Convert date from str to datetime\n",
    "usage_data['date'] = pd.to_datetime(usage_data['date'])\n",
    "\n",
    "# Aggregate multiple counters from similar locations to one counter\n",
    "for counter_name in list(counter_names.values()):\n",
    "    usage_data[counter_name] = usage_data[[col for col in usage_data.columns if counter_name in col]].sum(axis=1, skipna=False)\n",
    "\n",
    "# Rename columns\n",
    "usage_data = usage_data[['date'] + list(counter_names.values())]"
   ]
  },
  {
   "cell_type": "markdown",
   "id": "b75ad8c5",
   "metadata": {},
   "source": [
    "#### Data Cleaning Continued\n",
    "\n",
    "Exemplified by the missing data in the plot below, this real world data has gaps at different times for each station. Due to the lack of consistent data, only the years 2018 and 2019 were kept for analysis. That time period had no null values for any station."
   ]
  },
  {
   "cell_type": "code",
   "execution_count": 21,
   "id": "63215e54",
   "metadata": {},
   "outputs": [
    {
     "data": {
      "text/plain": [
       "<AxesSubplot:title={'center':'Null Values Example'}, xlabel='date', ylabel='Number of People At Four_Mile'>"
      ]
     },
     "execution_count": 21,
     "metadata": {},
     "output_type": "execute_result"
    },
    {
     "data": {
      "image/png": "[encoded data removed]",
      "text/plain": [
       "<Figure size 432x288 with 1 Axes>"
      ]
     },
     "metadata": {
      "needs_background": "light"
     },
     "output_type": "display_data"
    }
   ],
   "source": [
    "usage_data.plot(x = 'date', \n",
    "                y = (null_counter:='four_mile'), \n",
    "                title='Null Values Example', \n",
    "                ylabel=f'Number of People At {null_counter.title()}'\n",
    "               )"
   ]
  },
  {
   "cell_type": "code",
   "execution_count": 22,
   "id": "6d9c681b",
   "metadata": {
    "scrolled": true
   },
   "outputs": [
    {
     "data": {
      "text/html": [
       "<div>\n",
       "<style scoped>\n",
       "    .dataframe tbody tr th:only-of-type {\n",
       "        vertical-align: middle;\n",
       "    }\n",
       "\n",
       "    .dataframe tbody tr th {\n",
       "        vertical-align: top;\n",
       "    }\n",
       "\n",
       "    .dataframe thead th {\n",
       "        text-align: right;\n",
       "    }\n",
       "</style>\n",
       "<table border=\"1\" class=\"dataframe\">\n",
       "  <thead>\n",
       "    <tr style=\"text-align: right;\">\n",
       "      <th></th>\n",
       "      <th>date</th>\n",
       "      <th>counter</th>\n",
       "      <th>usage</th>\n",
       "      <th>year</th>\n",
       "      <th>month</th>\n",
       "      <th>hour</th>\n",
       "      <th>day_name</th>\n",
       "      <th>day_number</th>\n",
       "      <th>lat</th>\n",
       "      <th>long</th>\n",
       "      <th>map</th>\n",
       "    </tr>\n",
       "  </thead>\n",
       "  <tbody>\n",
       "    <tr>\n",
       "      <th>0</th>\n",
       "      <td>2018-01-01 00:00:00</td>\n",
       "      <td>almond_creek</td>\n",
       "      <td>0.0</td>\n",
       "      <td>2018</td>\n",
       "      <td>1</td>\n",
       "      <td>0</td>\n",
       "      <td>Monday</td>\n",
       "      <td>0</td>\n",
       "      <td>37.50754</td>\n",
       "      <td>-77.413864</td>\n",
       "      <td>2018-1-1</td>\n",
       "    </tr>\n",
       "    <tr>\n",
       "      <th>1</th>\n",
       "      <td>2018-01-01 01:00:00</td>\n",
       "      <td>almond_creek</td>\n",
       "      <td>0.0</td>\n",
       "      <td>2018</td>\n",
       "      <td>1</td>\n",
       "      <td>1</td>\n",
       "      <td>Monday</td>\n",
       "      <td>0</td>\n",
       "      <td>37.50754</td>\n",
       "      <td>-77.413864</td>\n",
       "      <td>2018-1-1</td>\n",
       "    </tr>\n",
       "    <tr>\n",
       "      <th>2</th>\n",
       "      <td>2018-01-01 02:00:00</td>\n",
       "      <td>almond_creek</td>\n",
       "      <td>0.0</td>\n",
       "      <td>2018</td>\n",
       "      <td>1</td>\n",
       "      <td>2</td>\n",
       "      <td>Monday</td>\n",
       "      <td>0</td>\n",
       "      <td>37.50754</td>\n",
       "      <td>-77.413864</td>\n",
       "      <td>2018-1-1</td>\n",
       "    </tr>\n",
       "    <tr>\n",
       "      <th>3</th>\n",
       "      <td>2018-01-01 03:00:00</td>\n",
       "      <td>almond_creek</td>\n",
       "      <td>0.0</td>\n",
       "      <td>2018</td>\n",
       "      <td>1</td>\n",
       "      <td>3</td>\n",
       "      <td>Monday</td>\n",
       "      <td>0</td>\n",
       "      <td>37.50754</td>\n",
       "      <td>-77.413864</td>\n",
       "      <td>2018-1-1</td>\n",
       "    </tr>\n",
       "    <tr>\n",
       "      <th>4</th>\n",
       "      <td>2018-01-01 04:00:00</td>\n",
       "      <td>almond_creek</td>\n",
       "      <td>0.0</td>\n",
       "      <td>2018</td>\n",
       "      <td>1</td>\n",
       "      <td>4</td>\n",
       "      <td>Monday</td>\n",
       "      <td>0</td>\n",
       "      <td>37.50754</td>\n",
       "      <td>-77.413864</td>\n",
       "      <td>2018-1-1</td>\n",
       "    </tr>\n",
       "  </tbody>\n",
       "</table>\n",
       "</div>"
      ],
      "text/plain": [
       "                 date       counter  usage  year  month  hour day_name  \\\n",
       "0 2018-01-01 00:00:00  almond_creek    0.0  2018      1     0   Monday   \n",
       "1 2018-01-01 01:00:00  almond_creek    0.0  2018      1     1   Monday   \n",
       "2 2018-01-01 02:00:00  almond_creek    0.0  2018      1     2   Monday   \n",
       "3 2018-01-01 03:00:00  almond_creek    0.0  2018      1     3   Monday   \n",
       "4 2018-01-01 04:00:00  almond_creek    0.0  2018      1     4   Monday   \n",
       "\n",
       "   day_number       lat       long       map  \n",
       "0           0  37.50754 -77.413864  2018-1-1  \n",
       "1           0  37.50754 -77.413864  2018-1-1  \n",
       "2           0  37.50754 -77.413864  2018-1-1  \n",
       "3           0  37.50754 -77.413864  2018-1-1  \n",
       "4           0  37.50754 -77.413864  2018-1-1  "
      ]
     },
     "execution_count": 22,
     "metadata": {},
     "output_type": "execute_result"
    }
   ],
   "source": [
    "# Drop Rows with Null Values\n",
    "usage_data = usage_data.dropna(how='any')\n",
    "\n",
    "# Drop incomplete years so the month analysis wont be off\n",
    "usage_data = usage_data[(usage_data['date'] >= '2018')*(usage_data.date <'2020')]\n",
    "\n",
    "# Melt Data Frame for machine readability\n",
    "usage_data = pd.melt(usage_data, \n",
    "                     id_vars = ['date'], \n",
    "                     value_vars=list(counter_names.values()), \n",
    "                     var_name='counter', \n",
    "                     value_name='usage')\n",
    "\n",
    "# Add year, month, day, hour columns for analysis\n",
    "usage_data['year'] = usage_data['date'].apply(lambda x: x.year)\n",
    "\n",
    "usage_data['month'] = usage_data['date'].apply(lambda x: x.month)\n",
    "\n",
    "usage_data['hour'] = usage_data['date'].apply(lambda x: x.hour)\n",
    "\n",
    "usage_data['day_name'], usage_data['day_number'] = usage_data['date'].dt.day_name(), usage_data['date'].dt.dayofweek\n",
    "\n",
    "# Map Latitude and Longitude to DataFrame\n",
    "usage_data['lat'] = usage_data['counter'].map(lat_map)\n",
    "\n",
    "usage_data['long'] = usage_data['counter'].map(long_map)\n",
    "\n",
    "# Create a map for later data merging\n",
    "usage_data['map'] = usage_data['date'].apply(lambda x: '-'.join([str(x.year), str(x.month), str(x.day)]))\n",
    "\n",
    "# View Usage Data\n",
    "usage_data.head()"
   ]
  },
  {
   "cell_type": "markdown",
   "id": "4ca389d7",
   "metadata": {},
   "source": [
    "#### Get SQL SCHEMA and run basic queries"
   ]
  },
  {
   "cell_type": "code",
   "execution_count": 23,
   "id": "8cfaf182",
   "metadata": {},
   "outputs": [
    {
     "name": "stdout",
     "output_type": "stream",
     "text": [
      "CREATE TABLE \"data\" (\n",
      "\"date\" TIMESTAMP,\n",
      "  \"counter\" TEXT,\n",
      "  \"usage\" REAL,\n",
      "  \"year\" INTEGER,\n",
      "  \"month\" INTEGER,\n",
      "  \"hour\" INTEGER,\n",
      "  \"day_name\" TEXT,\n",
      "  \"day_number\" INTEGER,\n",
      "  \"lat\" REAL,\n",
      "  \"long\" REAL,\n",
      "  \"map\" TEXT\n",
      ")\n"
     ]
    }
   ],
   "source": [
    "print(pd.io.sql.get_schema(usage_data, 'data'))"
   ]
  },
  {
   "cell_type": "code",
   "execution_count": 24,
   "id": "c508ae1e",
   "metadata": {},
   "outputs": [],
   "source": [
    "# Get all Data from the year 2018\n",
    "data_2018 = usage_data.query('year == 2018')\n",
    "\n",
    "# Get all Data from the year 2018 and counter location almond_creek\n",
    "almost_creek_2018 = usage_data.query('year == 2018 & counter == \"almond_creek\"')"
   ]
  },
  {
   "cell_type": "markdown",
   "id": "157930f2",
   "metadata": {},
   "source": [
    "#### Additional Data for Analysis\n",
    "\n",
    "To help explain the variance of usage on the Capital Trail, weather data was accessed from the National Oceanic And Atmospheric Administration (NOAA) API. Only daily data was found for weather - not hourly like the trail usage data."
   ]
  },
  {
   "cell_type": "code",
   "execution_count": 25,
   "id": "f63ebc6d",
   "metadata": {},
   "outputs": [
    {
     "data": {
      "text/html": [
       "<div>\n",
       "<style scoped>\n",
       "    .dataframe tbody tr th:only-of-type {\n",
       "        vertical-align: middle;\n",
       "    }\n",
       "\n",
       "    .dataframe tbody tr th {\n",
       "        vertical-align: top;\n",
       "    }\n",
       "\n",
       "    .dataframe thead th {\n",
       "        text-align: right;\n",
       "    }\n",
       "</style>\n",
       "<table border=\"1\" class=\"dataframe\">\n",
       "  <thead>\n",
       "    <tr style=\"text-align: right;\">\n",
       "      <th>datatype_name</th>\n",
       "      <th>date</th>\n",
       "      <th>Average Relative Humidity</th>\n",
       "      <th>Average Temperature</th>\n",
       "      <th>Precipitation</th>\n",
       "    </tr>\n",
       "  </thead>\n",
       "  <tbody>\n",
       "    <tr>\n",
       "      <th>0</th>\n",
       "      <td>2018-02-28</td>\n",
       "      <td>74.0</td>\n",
       "      <td>49.0</td>\n",
       "      <td>0.00</td>\n",
       "    </tr>\n",
       "    <tr>\n",
       "      <th>1</th>\n",
       "      <td>2018-03-01</td>\n",
       "      <td>100.0</td>\n",
       "      <td>53.0</td>\n",
       "      <td>0.18</td>\n",
       "    </tr>\n",
       "    <tr>\n",
       "      <th>2</th>\n",
       "      <td>2018-03-02</td>\n",
       "      <td>62.0</td>\n",
       "      <td>51.0</td>\n",
       "      <td>0.00</td>\n",
       "    </tr>\n",
       "    <tr>\n",
       "      <th>3</th>\n",
       "      <td>2018-03-03</td>\n",
       "      <td>53.0</td>\n",
       "      <td>45.0</td>\n",
       "      <td>0.00</td>\n",
       "    </tr>\n",
       "    <tr>\n",
       "      <th>4</th>\n",
       "      <td>2018-03-04</td>\n",
       "      <td>62.0</td>\n",
       "      <td>44.0</td>\n",
       "      <td>0.00</td>\n",
       "    </tr>\n",
       "  </tbody>\n",
       "</table>\n",
       "</div>"
      ],
      "text/plain": [
       "datatype_name       date  Average Relative Humidity  Average Temperature  \\\n",
       "0             2018-02-28                       74.0                 49.0   \n",
       "1             2018-03-01                      100.0                 53.0   \n",
       "2             2018-03-02                       62.0                 51.0   \n",
       "3             2018-03-03                       53.0                 45.0   \n",
       "4             2018-03-04                       62.0                 44.0   \n",
       "\n",
       "datatype_name  Precipitation  \n",
       "0                       0.00  \n",
       "1                       0.18  \n",
       "2                       0.00  \n",
       "3                       0.00  \n",
       "4                       0.00  "
      ]
     },
     "execution_count": 25,
     "metadata": {},
     "output_type": "execute_result"
    }
   ],
   "source": [
    "import requests as r\n",
    "\n",
    "# Create Authentication \n",
    "headers = {'User-Agent': 'Test (your@email.com)',\n",
    "    'accept': 'application/json',\n",
    "    'token': 'FtwgVooCZMyociHKapqAWuQDqthqZUPv'\n",
    "    }\n",
    "\n",
    "# Empty Dictionary to Store API results\n",
    "data_dict = {}\n",
    "\n",
    "# Variable to use for Offset API calls\n",
    "counter = 0\n",
    "\n",
    "# Get Data For the 2 years we have of Capital Trail Usage\n",
    "for i in ['2018', '2019']:\n",
    "    for j in range(0, 6):\n",
    "        data_dict[i + str(j)] = pd.DataFrame(r.get('https://www.ncei.noaa.gov/cdo-web/api/v2/data?datasetid=GHCND&units=standard&locationid=ZIP:23250&startdate={}-01-01&enddate={}-12-01&limit=1000&offset={}'.format(i, i, counter), headers=headers).json()['results'])\n",
    "        counter += 1000\n",
    "    counter = 0\n",
    "\n",
    "# Concatenate JSON results to pd.DataFrame\n",
    "weather_data = pd.concat(data_dict.values()).drop_duplicates()\n",
    "\n",
    "# Map for datatype names\n",
    "dtype_dict = {'RHAV': 'Average Relative Humidity',\n",
    "              'PRCP': 'Precipitation', \n",
    "              'TAVG': 'Average Temperature'}\n",
    "\n",
    "# Map datatype names to weather_data\n",
    "weather_data['datatype_name'] = weather_data['datatype'].map(dtype_dict)\n",
    "\n",
    "# Convert date to datetime\n",
    "weather_data['date'] = pd.to_datetime(weather_data['date'])\n",
    "\n",
    "# Create a map to join this data with the trail usage data\n",
    "weather_data['map'] = weather_data['date'].apply(lambda x: '-'.join([str(x.year), str(x.month), str(x.day)]))\n",
    "\n",
    "# Drop irrelevant variables from weather data to focus on main weather indicators\n",
    "weather_data = weather_data[~weather_data.datatype_name.isna()][['date', 'value', 'datatype_name', 'map']].reset_index(drop=True)\n",
    "\n",
    "# Reshape dataset to get ready to merge\n",
    "weather_data = weather_data.pivot(index='date', columns='datatype_name', values='value').reset_index()\n",
    "\n",
    "weather_data.head()"
   ]
  },
  {
   "cell_type": "markdown",
   "id": "e87042b4",
   "metadata": {},
   "source": [
    "#### Merging the data"
   ]
  },
  {
   "cell_type": "code",
   "execution_count": 26,
   "id": "4adcc905",
   "metadata": {},
   "outputs": [],
   "source": [
    "# Make a Copy so we can use the usage data on its own\n",
    "merge_data = usage_data.copy(deep=True)\n",
    "\n",
    "# Convert datetime to exclude hour\n",
    "merge_data['date'] = pd.to_datetime(merge_data.date.dt.date)\n",
    "\n",
    "# Group by Days\n",
    "merge_data = merge_data.groupby('date').sum()['usage'].reset_index()\n",
    "\n",
    "# Merge & Drop Null for Statistical Analysis\n",
    "data_full = merge_data.merge(weather_data, how='left', on='date')\n",
    "\n",
    "data_full = data_full.dropna(how='any')"
   ]
  },
  {
   "cell_type": "markdown",
   "id": "05ad12b3",
   "metadata": {},
   "source": [
    "#### Dataset Size"
   ]
  },
  {
   "cell_type": "code",
   "execution_count": 27,
   "id": "019ad2e8",
   "metadata": {},
   "outputs": [
    {
     "name": "stdout",
     "output_type": "stream",
     "text": [
      "Dataset Size: 18.21 MB\n"
     ]
    }
   ],
   "source": [
    "from sys import getsizeof\n",
    "\n",
    "print(\"Dataset Size:\", round(getsizeof(usage_data)/10**6, 2), 'MB')"
   ]
  },
  {
   "cell_type": "markdown",
   "id": "ee99d243",
   "metadata": {},
   "source": [
    "### 1. Exploratory Analysis"
   ]
  },
  {
   "cell_type": "code",
   "execution_count": 28,
   "id": "2958bdad",
   "metadata": {
    "scrolled": true
   },
   "outputs": [
    {
     "data": {
      "application/vnd.plotly.v1+json": {
       "config": {
        "plotlyServerURL": "https://plot.ly"
       },
       "data": [
        {
         "customdata": [
          [
           "almond_creek",
           -77.413864,
           37.50754
          ],
          [
           "chickahominy",
           -76.88913,
           37.262756
          ],
          [
           "four_mile",
           -77.32803408,
           37.43519565
          ],
          [
           "greenspring",
           -76.78627097,
           37.23865143
          ],
          [
           "herring_creek",
           -77.17409,
           37.33797
          ],
          [
           "willis_church",
           -77.26437,
           37.405174
          ]
         ],
         "hovertemplate": "usage=%{marker.color}<br>counter=%{customdata[0]}<extra></extra>",
         "lat": [
          37.50754,
          37.262756,
          37.43519565,
          37.23865143,
          37.33797,
          37.405174
         ],
         "legendgroup": "",
         "lon": [
          -77.413864,
          -76.88913,
          -77.32803408,
          -76.78627097,
          -77.17409,
          -77.26437
         ],
         "marker": {
          "color": [
           366962,
           142518,
           253504,
           300620,
           107324,
           178116
          ],
          "coloraxis": "coloraxis",
          "size": [
           366962,
           142518,
           253504,
           300620,
           107324,
           178116
          ],
          "sizemode": "area",
          "sizeref": 917.405
         },
         "mode": "markers",
         "name": "",
         "showlegend": false,
         "subplot": "mapbox",
         "type": "scattermapbox"
        }
       ],
       "layout": {
        "coloraxis": {
         "colorbar": {
          "title": {
           "text": "usage"
          }
         },
         "colorscale": [
          [
           0,
           "#0d0887"
          ],
          [
           0.1111111111111111,
           "#46039f"
          ],
          [
           0.2222222222222222,
           "#7201a8"
          ],
          [
           0.3333333333333333,
           "#9c179e"
          ],
          [
           0.4444444444444444,
           "#bd3786"
          ],
          [
           0.5555555555555556,
           "#d8576b"
          ],
          [
           0.6666666666666666,
           "#ed7953"
          ],
          [
           0.7777777777777778,
           "#fb9f3a"
          ],
          [
           0.8888888888888888,
           "#fdca26"
          ],
          [
           1,
           "#f0f921"
          ]
         ]
        },
        "legend": {
         "itemsizing": "constant",
         "tracegroupgap": 0
        },
        "mapbox": {
         "center": {
          "lat": 37.36454784666666,
          "lon": -77.14262650833332
         },
         "domain": {
          "x": [
           0,
           1
          ],
          "y": [
           0,
           1
          ]
         },
         "style": "carto-positron",
         "zoom": 8
        },
        "margin": {
         "b": 20,
         "l": 20,
         "r": 20,
         "t": 37
        },
        "template": {
         "data": {
          "bar": [
           {
            "error_x": {
             "color": "#2a3f5f"
            },
            "error_y": {
             "color": "#2a3f5f"
            },
            "marker": {
             "line": {
              "color": "#E5ECF6",
              "width": 0.5
             },
             "pattern": {
              "fillmode": "overlay",
              "size": 10,
              "solidity": 0.2
             }
            },
            "type": "bar"
           }
          ],
          "barpolar": [
           {
            "marker": {
             "line": {
              "color": "#E5ECF6",
              "width": 0.5
             },
             "pattern": {
              "fillmode": "overlay",
              "size": 10,
              "solidity": 0.2
             }
            },
            "type": "barpolar"
           }
          ],
          "carpet": [
           {
            "aaxis": {
             "endlinecolor": "#2a3f5f",
             "gridcolor": "white",
             "linecolor": "white",
             "minorgridcolor": "white",
             "startlinecolor": "#2a3f5f"
            },
            "baxis": {
             "endlinecolor": "#2a3f5f",
             "gridcolor": "white",
             "linecolor": "white",
             "minorgridcolor": "white",
             "startlinecolor": "#2a3f5f"
            },
            "type": "carpet"
           }
          ],
          "choropleth": [
           {
            "colorbar": {
             "outlinewidth": 0,
             "ticks": ""
            },
            "type": "choropleth"
           }
          ],
          "contour": [
           {
            "colorbar": {
             "outlinewidth": 0,
             "ticks": ""
            },
            "colorscale": [
             [
              0,
              "#0d0887"
             ],
             [
              0.1111111111111111,
              "#46039f"
             ],
             [
              0.2222222222222222,
              "#7201a8"
             ],
             [
              0.3333333333333333,
              "#9c179e"
             ],
             [
              0.4444444444444444,
              "#bd3786"
             ],
             [
              0.5555555555555556,
              "#d8576b"
             ],
             [
              0.6666666666666666,
              "#ed7953"
             ],
             [
              0.7777777777777778,
              "#fb9f3a"
             ],
             [
              0.8888888888888888,
              "#fdca26"
             ],
             [
              1,
              "#f0f921"
             ]
            ],
            "type": "contour"
           }
          ],
          "contourcarpet": [
           {
            "colorbar": {
             "outlinewidth": 0,
             "ticks": ""
            },
            "type": "contourcarpet"
           }
          ],
          "heatmap": [
           {
            "colorbar": {
             "outlinewidth": 0,
             "ticks": ""
            },
            "colorscale": [
             [
              0,
              "#0d0887"
             ],
             [
              0.1111111111111111,
              "#46039f"
             ],
             [
              0.2222222222222222,
              "#7201a8"
             ],
             [
              0.3333333333333333,
              "#9c179e"
             ],
             [
              0.4444444444444444,
              "#bd3786"
             ],
             [
              0.5555555555555556,
              "#d8576b"
             ],
             [
              0.6666666666666666,
              "#ed7953"
             ],
             [
              0.7777777777777778,
              "#fb9f3a"
             ],
             [
              0.8888888888888888,
              "#fdca26"
             ],
             [
              1,
              "#f0f921"
             ]
            ],
            "type": "heatmap"
           }
          ],
          "heatmapgl": [
           {
            "colorbar": {
             "outlinewidth": 0,
             "ticks": ""
            },
            "colorscale": [
             [
              0,
              "#0d0887"
             ],
             [
              0.1111111111111111,
              "#46039f"
             ],
             [
              0.2222222222222222,
              "#7201a8"
             ],
             [
              0.3333333333333333,
              "#9c179e"
             ],
             [
              0.4444444444444444,
              "#bd3786"
             ],
             [
              0.5555555555555556,
              "#d8576b"
             ],
             [
              0.6666666666666666,
              "#ed7953"
             ],
             [
              0.7777777777777778,
              "#fb9f3a"
             ],
             [
              0.8888888888888888,
              "#fdca26"
             ],
             [
              1,
              "#f0f921"
             ]
            ],
            "type": "heatmapgl"
           }
          ],
          "histogram": [
           {
            "marker": {
             "pattern": {
              "fillmode": "overlay",
              "size": 10,
              "solidity": 0.2
             }
            },
            "type": "histogram"
           }
          ],
          "histogram2d": [
           {
            "colorbar": {
             "outlinewidth": 0,
             "ticks": ""
            },
            "colorscale": [
             [
              0,
              "#0d0887"
             ],
             [
              0.1111111111111111,
              "#46039f"
             ],
             [
              0.2222222222222222,
              "#7201a8"
             ],
             [
              0.3333333333333333,
              "#9c179e"
             ],
             [
              0.4444444444444444,
              "#bd3786"
             ],
             [
              0.5555555555555556,
              "#d8576b"
             ],
             [
              0.6666666666666666,
              "#ed7953"
             ],
             [
              0.7777777777777778,
              "#fb9f3a"
             ],
             [
              0.8888888888888888,
              "#fdca26"
             ],
             [
              1,
              "#f0f921"
             ]
            ],
            "type": "histogram2d"
           }
          ],
          "histogram2dcontour": [
           {
            "colorbar": {
             "outlinewidth": 0,
             "ticks": ""
            },
            "colorscale": [
             [
              0,
              "#0d0887"
             ],
             [
              0.1111111111111111,
              "#46039f"
             ],
             [
              0.2222222222222222,
              "#7201a8"
             ],
             [
              0.3333333333333333,
              "#9c179e"
             ],
             [
              0.4444444444444444,
              "#bd3786"
             ],
             [
              0.5555555555555556,
              "#d8576b"
             ],
             [
              0.6666666666666666,
              "#ed7953"
             ],
             [
              0.7777777777777778,
              "#fb9f3a"
             ],
             [
              0.8888888888888888,
              "#fdca26"
             ],
             [
              1,
              "#f0f921"
             ]
            ],
            "type": "histogram2dcontour"
           }
          ],
          "mesh3d": [
           {
            "colorbar": {
             "outlinewidth": 0,
             "ticks": ""
            },
            "type": "mesh3d"
           }
          ],
          "parcoords": [
           {
            "line": {
             "colorbar": {
              "outlinewidth": 0,
              "ticks": ""
             }
            },
            "type": "parcoords"
           }
          ],
          "pie": [
           {
            "automargin": true,
            "type": "pie"
           }
          ],
          "scatter": [
           {
            "fillpattern": {
             "fillmode": "overlay",
             "size": 10,
             "solidity": 0.2
            },
            "type": "scatter"
           }
          ],
          "scatter3d": [
           {
            "line": {
             "colorbar": {
              "outlinewidth": 0,
              "ticks": ""
             }
            },
            "marker": {
             "colorbar": {
              "outlinewidth": 0,
              "ticks": ""
             }
            },
            "type": "scatter3d"
           }
          ],
          "scattercarpet": [
           {
            "marker": {
             "colorbar": {
              "outlinewidth": 0,
              "ticks": ""
             }
            },
            "type": "scattercarpet"
           }
          ],
          "scattergeo": [
           {
            "marker": {
             "colorbar": {
              "outlinewidth": 0,
              "ticks": ""
             }
            },
            "type": "scattergeo"
           }
          ],
          "scattergl": [
           {
            "marker": {
             "colorbar": {
              "outlinewidth": 0,
              "ticks": ""
             }
            },
            "type": "scattergl"
           }
          ],
          "scattermapbox": [
           {
            "marker": {
             "colorbar": {
              "outlinewidth": 0,
              "ticks": ""
             }
            },
            "type": "scattermapbox"
           }
          ],
          "scatterpolar": [
           {
            "marker": {
             "colorbar": {
              "outlinewidth": 0,
              "ticks": ""
             }
            },
            "type": "scatterpolar"
           }
          ],
          "scatterpolargl": [
           {
            "marker": {
             "colorbar": {
              "outlinewidth": 0,
              "ticks": ""
             }
            },
            "type": "scatterpolargl"
           }
          ],
          "scatterternary": [
           {
            "marker": {
             "colorbar": {
              "outlinewidth": 0,
              "ticks": ""
             }
            },
            "type": "scatterternary"
           }
          ],
          "surface": [
           {
            "colorbar": {
             "outlinewidth": 0,
             "ticks": ""
            },
            "colorscale": [
             [
              0,
              "#0d0887"
             ],
             [
              0.1111111111111111,
              "#46039f"
             ],
             [
              0.2222222222222222,
              "#7201a8"
             ],
             [
              0.3333333333333333,
              "#9c179e"
             ],
             [
              0.4444444444444444,
              "#bd3786"
             ],
             [
              0.5555555555555556,
              "#d8576b"
             ],
             [
              0.6666666666666666,
              "#ed7953"
             ],
             [
              0.7777777777777778,
              "#fb9f3a"
             ],
             [
              0.8888888888888888,
              "#fdca26"
             ],
             [
              1,
              "#f0f921"
             ]
            ],
            "type": "surface"
           }
          ],
          "table": [
           {
            "cells": {
             "fill": {
              "color": "#EBF0F8"
             },
             "line": {
              "color": "white"
             }
            },
            "header": {
             "fill": {
              "color": "#C8D4E3"
             },
             "line": {
              "color": "white"
             }
            },
            "type": "table"
           }
          ]
         },
         "layout": {
          "annotationdefaults": {
           "arrowcolor": "#2a3f5f",
           "arrowhead": 0,
           "arrowwidth": 1
          },
          "autotypenumbers": "strict",
          "coloraxis": {
           "colorbar": {
            "outlinewidth": 0,
            "ticks": ""
           }
          },
          "colorscale": {
           "diverging": [
            [
             0,
             "#8e0152"
            ],
            [
             0.1,
             "#c51b7d"
            ],
            [
             0.2,
             "#de77ae"
            ],
            [
             0.3,
             "#f1b6da"
            ],
            [
             0.4,
             "#fde0ef"
            ],
            [
             0.5,
             "#f7f7f7"
            ],
            [
             0.6,
             "#e6f5d0"
            ],
            [
             0.7,
             "#b8e186"
            ],
            [
             0.8,
             "#7fbc41"
            ],
            [
             0.9,
             "#4d9221"
            ],
            [
             1,
             "#276419"
            ]
           ],
           "sequential": [
            [
             0,
             "#0d0887"
            ],
            [
             0.1111111111111111,
             "#46039f"
            ],
            [
             0.2222222222222222,
             "#7201a8"
            ],
            [
             0.3333333333333333,
             "#9c179e"
            ],
            [
             0.4444444444444444,
             "#bd3786"
            ],
            [
             0.5555555555555556,
             "#d8576b"
            ],
            [
             0.6666666666666666,
             "#ed7953"
            ],
            [
             0.7777777777777778,
             "#fb9f3a"
            ],
            [
             0.8888888888888888,
             "#fdca26"
            ],
            [
             1,
             "#f0f921"
            ]
           ],
           "sequentialminus": [
            [
             0,
             "#0d0887"
            ],
            [
             0.1111111111111111,
             "#46039f"
            ],
            [
             0.2222222222222222,
             "#7201a8"
            ],
            [
             0.3333333333333333,
             "#9c179e"
            ],
            [
             0.4444444444444444,
             "#bd3786"
            ],
            [
             0.5555555555555556,
             "#d8576b"
            ],
            [
             0.6666666666666666,
             "#ed7953"
            ],
            [
             0.7777777777777778,
             "#fb9f3a"
            ],
            [
             0.8888888888888888,
             "#fdca26"
            ],
            [
             1,
             "#f0f921"
            ]
           ]
          },
          "colorway": [
           "#636efa",
           "#EF553B",
           "#00cc96",
           "#ab63fa",
           "#FFA15A",
           "#19d3f3",
           "#FF6692",
           "#B6E880",
           "#FF97FF",
           "#FECB52"
          ],
          "font": {
           "color": "#2a3f5f"
          },
          "geo": {
           "bgcolor": "white",
           "lakecolor": "white",
           "landcolor": "#E5ECF6",
           "showlakes": true,
           "showland": true,
           "subunitcolor": "white"
          },
          "hoverlabel": {
           "align": "left"
          },
          "hovermode": "closest",
          "mapbox": {
           "style": "light"
          },
          "paper_bgcolor": "white",
          "plot_bgcolor": "#E5ECF6",
          "polar": {
           "angularaxis": {
            "gridcolor": "white",
            "linecolor": "white",
            "ticks": ""
           },
           "bgcolor": "#E5ECF6",
           "radialaxis": {
            "gridcolor": "white",
            "linecolor": "white",
            "ticks": ""
           }
          },
          "scene": {
           "xaxis": {
            "backgroundcolor": "#E5ECF6",
            "gridcolor": "white",
            "gridwidth": 2,
            "linecolor": "white",
            "showbackground": true,
            "ticks": "",
            "zerolinecolor": "white"
           },
           "yaxis": {
            "backgroundcolor": "#E5ECF6",
            "gridcolor": "white",
            "gridwidth": 2,
            "linecolor": "white",
            "showbackground": true,
            "ticks": "",
            "zerolinecolor": "white"
           },
           "zaxis": {
            "backgroundcolor": "#E5ECF6",
            "gridcolor": "white",
            "gridwidth": 2,
            "linecolor": "white",
            "showbackground": true,
            "ticks": "",
            "zerolinecolor": "white"
           }
          },
          "shapedefaults": {
           "line": {
            "color": "#2a3f5f"
           }
          },
          "ternary": {
           "aaxis": {
            "gridcolor": "white",
            "linecolor": "white",
            "ticks": ""
           },
           "baxis": {
            "gridcolor": "white",
            "linecolor": "white",
            "ticks": ""
           },
           "bgcolor": "#E5ECF6",
           "caxis": {
            "gridcolor": "white",
            "linecolor": "white",
            "ticks": ""
           }
          },
          "title": {
           "x": 0.05
          },
          "xaxis": {
           "automargin": true,
           "gridcolor": "white",
           "linecolor": "white",
           "ticks": "",
           "title": {
            "standoff": 15
           },
           "zerolinecolor": "white",
           "zerolinewidth": 2
          },
          "yaxis": {
           "automargin": true,
           "gridcolor": "white",
           "linecolor": "white",
           "ticks": "",
           "title": {
            "standoff": 15
           },
           "zerolinecolor": "white",
           "zerolinewidth": 2
          }
         }
        },
        "title": {
         "text": "Overall Usage of the Capital Trail in 2018-2019",
         "x": 0.5
        }
       }
      },
      "text/html": [
       "<div>                            <div id=\"2e880b52-d68c-4f8c-bf29-86ec69e51f9a\" class=\"plotly-graph-div\" style=\"height:525px; width:100%;\"></div>            <script type=\"text/javascript\">                require([\"plotly\"], function(Plotly) {                    window.PLOTLYENV=window.PLOTLYENV || {};                                    if (document.getElementById(\"2e880b52-d68c-4f8c-bf29-86ec69e51f9a\")) {                    Plotly.newPlot(                        \"2e880b52-d68c-4f8c-bf29-86ec69e51f9a\",                        [{\"customdata\":[[\"almond_creek\",-77.413864,37.50754],[\"chickahominy\",-76.88913,37.262756],[\"four_mile\",-77.32803408,37.43519565],[\"greenspring\",-76.78627097,37.23865143],[\"herring_creek\",-77.17409,37.33797],[\"willis_church\",-77.26437,37.405174]],\"hovertemplate\":\"usage=%{marker.color}<br>counter=%{customdata[0]}<extra></extra>\",\"lat\":[37.50754,37.262756,37.43519565,37.23865143,37.33797,37.405174],\"legendgroup\":\"\",\"lon\":[-77.413864,-76.88913,-77.32803408,-76.78627097,-77.17409,-77.26437],\"marker\":{\"color\":[366962.0,142518.0,253504.0,300620.0,107324.0,178116.0],\"coloraxis\":\"coloraxis\",\"size\":[366962.0,142518.0,253504.0,300620.0,107324.0,178116.0],\"sizemode\":\"area\",\"sizeref\":917.405},\"mode\":\"markers\",\"name\":\"\",\"showlegend\":false,\"subplot\":\"mapbox\",\"type\":\"scattermapbox\"}],                        {\"template\":{\"data\":{\"histogram2dcontour\":[{\"type\":\"histogram2dcontour\",\"colorbar\":{\"outlinewidth\":0,\"ticks\":\"\"},\"colorscale\":[[0.0,\"#0d0887\"],[0.1111111111111111,\"#46039f\"],[0.2222222222222222,\"#7201a8\"],[0.3333333333333333,\"#9c179e\"],[0.4444444444444444,\"#bd3786\"],[0.5555555555555556,\"#d8576b\"],[0.6666666666666666,\"#ed7953\"],[0.7777777777777778,\"#fb9f3a\"],[0.8888888888888888,\"#fdca26\"],[1.0,\"#f0f921\"]]}],\"choropleth\":[{\"type\":\"choropleth\",\"colorbar\":{\"outlinewidth\":0,\"ticks\":\"\"}}],\"histogram2d\":[{\"type\":\"histogram2d\",\"colorbar\":{\"outlinewidth\":0,\"ticks\":\"\"},\"colorscale\":[[0.0,\"#0d0887\"],[0.1111111111111111,\"#46039f\"],[0.2222222222222222,\"#7201a8\"],[0.3333333333333333,\"#9c179e\"],[0.4444444444444444,\"#bd3786\"],[0.5555555555555556,\"#d8576b\"],[0.6666666666666666,\"#ed7953\"],[0.7777777777777778,\"#fb9f3a\"],[0.8888888888888888,\"#fdca26\"],[1.0,\"#f0f921\"]]}],\"heatmap\":[{\"type\":\"heatmap\",\"colorbar\":{\"outlinewidth\":0,\"ticks\":\"\"},\"colorscale\":[[0.0,\"#0d0887\"],[0.1111111111111111,\"#46039f\"],[0.2222222222222222,\"#7201a8\"],[0.3333333333333333,\"#9c179e\"],[0.4444444444444444,\"#bd3786\"],[0.5555555555555556,\"#d8576b\"],[0.6666666666666666,\"#ed7953\"],[0.7777777777777778,\"#fb9f3a\"],[0.8888888888888888,\"#fdca26\"],[1.0,\"#f0f921\"]]}],\"heatmapgl\":[{\"type\":\"heatmapgl\",\"colorbar\":{\"outlinewidth\":0,\"ticks\":\"\"},\"colorscale\":[[0.0,\"#0d0887\"],[0.1111111111111111,\"#46039f\"],[0.2222222222222222,\"#7201a8\"],[0.3333333333333333,\"#9c179e\"],[0.4444444444444444,\"#bd3786\"],[0.5555555555555556,\"#d8576b\"],[0.6666666666666666,\"#ed7953\"],[0.7777777777777778,\"#fb9f3a\"],[0.8888888888888888,\"#fdca26\"],[1.0,\"#f0f921\"]]}],\"contourcarpet\":[{\"type\":\"contourcarpet\",\"colorbar\":{\"outlinewidth\":0,\"ticks\":\"\"}}],\"contour\":[{\"type\":\"contour\",\"colorbar\":{\"outlinewidth\":0,\"ticks\":\"\"},\"colorscale\":[[0.0,\"#0d0887\"],[0.1111111111111111,\"#46039f\"],[0.2222222222222222,\"#7201a8\"],[0.3333333333333333,\"#9c179e\"],[0.4444444444444444,\"#bd3786\"],[0.5555555555555556,\"#d8576b\"],[0.6666666666666666,\"#ed7953\"],[0.7777777777777778,\"#fb9f3a\"],[0.8888888888888888,\"#fdca26\"],[1.0,\"#f0f921\"]]}],\"surface\":[{\"type\":\"surface\",\"colorbar\":{\"outlinewidth\":0,\"ticks\":\"\"},\"colorscale\":[[0.0,\"#0d0887\"],[0.1111111111111111,\"#46039f\"],[0.2222222222222222,\"#7201a8\"],[0.3333333333333333,\"#9c179e\"],[0.4444444444444444,\"#bd3786\"],[0.5555555555555556,\"#d8576b\"],[0.6666666666666666,\"#ed7953\"],[0.7777777777777778,\"#fb9f3a\"],[0.8888888888888888,\"#fdca26\"],[1.0,\"#f0f921\"]]}],\"mesh3d\":[{\"type\":\"mesh3d\",\"colorbar\":{\"outlinewidth\":0,\"ticks\":\"\"}}],\"scatter\":[{\"fillpattern\":{\"fillmode\":\"overlay\",\"size\":10,\"solidity\":0.2},\"type\":\"scatter\"}],\"parcoords\":[{\"type\":\"parcoords\",\"line\":{\"colorbar\":{\"outlinewidth\":0,\"ticks\":\"\"}}}],\"scatterpolargl\":[{\"type\":\"scatterpolargl\",\"marker\":{\"colorbar\":{\"outlinewidth\":0,\"ticks\":\"\"}}}],\"bar\":[{\"error_x\":{\"color\":\"#2a3f5f\"},\"error_y\":{\"color\":\"#2a3f5f\"},\"marker\":{\"line\":{\"color\":\"#E5ECF6\",\"width\":0.5},\"pattern\":{\"fillmode\":\"overlay\",\"size\":10,\"solidity\":0.2}},\"type\":\"bar\"}],\"scattergeo\":[{\"type\":\"scattergeo\",\"marker\":{\"colorbar\":{\"outlinewidth\":0,\"ticks\":\"\"}}}],\"scatterpolar\":[{\"type\":\"scatterpolar\",\"marker\":{\"colorbar\":{\"outlinewidth\":0,\"ticks\":\"\"}}}],\"histogram\":[{\"marker\":{\"pattern\":{\"fillmode\":\"overlay\",\"size\":10,\"solidity\":0.2}},\"type\":\"histogram\"}],\"scattergl\":[{\"type\":\"scattergl\",\"marker\":{\"colorbar\":{\"outlinewidth\":0,\"ticks\":\"\"}}}],\"scatter3d\":[{\"type\":\"scatter3d\",\"line\":{\"colorbar\":{\"outlinewidth\":0,\"ticks\":\"\"}},\"marker\":{\"colorbar\":{\"outlinewidth\":0,\"ticks\":\"\"}}}],\"scattermapbox\":[{\"type\":\"scattermapbox\",\"marker\":{\"colorbar\":{\"outlinewidth\":0,\"ticks\":\"\"}}}],\"scatterternary\":[{\"type\":\"scatterternary\",\"marker\":{\"colorbar\":{\"outlinewidth\":0,\"ticks\":\"\"}}}],\"scattercarpet\":[{\"type\":\"scattercarpet\",\"marker\":{\"colorbar\":{\"outlinewidth\":0,\"ticks\":\"\"}}}],\"carpet\":[{\"aaxis\":{\"endlinecolor\":\"#2a3f5f\",\"gridcolor\":\"white\",\"linecolor\":\"white\",\"minorgridcolor\":\"white\",\"startlinecolor\":\"#2a3f5f\"},\"baxis\":{\"endlinecolor\":\"#2a3f5f\",\"gridcolor\":\"white\",\"linecolor\":\"white\",\"minorgridcolor\":\"white\",\"startlinecolor\":\"#2a3f5f\"},\"type\":\"carpet\"}],\"table\":[{\"cells\":{\"fill\":{\"color\":\"#EBF0F8\"},\"line\":{\"color\":\"white\"}},\"header\":{\"fill\":{\"color\":\"#C8D4E3\"},\"line\":{\"color\":\"white\"}},\"type\":\"table\"}],\"barpolar\":[{\"marker\":{\"line\":{\"color\":\"#E5ECF6\",\"width\":0.5},\"pattern\":{\"fillmode\":\"overlay\",\"size\":10,\"solidity\":0.2}},\"type\":\"barpolar\"}],\"pie\":[{\"automargin\":true,\"type\":\"pie\"}]},\"layout\":{\"autotypenumbers\":\"strict\",\"colorway\":[\"#636efa\",\"#EF553B\",\"#00cc96\",\"#ab63fa\",\"#FFA15A\",\"#19d3f3\",\"#FF6692\",\"#B6E880\",\"#FF97FF\",\"#FECB52\"],\"font\":{\"color\":\"#2a3f5f\"},\"hovermode\":\"closest\",\"hoverlabel\":{\"align\":\"left\"},\"paper_bgcolor\":\"white\",\"plot_bgcolor\":\"#E5ECF6\",\"polar\":{\"bgcolor\":\"#E5ECF6\",\"angularaxis\":{\"gridcolor\":\"white\",\"linecolor\":\"white\",\"ticks\":\"\"},\"radialaxis\":{\"gridcolor\":\"white\",\"linecolor\":\"white\",\"ticks\":\"\"}},\"ternary\":{\"bgcolor\":\"#E5ECF6\",\"aaxis\":{\"gridcolor\":\"white\",\"linecolor\":\"white\",\"ticks\":\"\"},\"baxis\":{\"gridcolor\":\"white\",\"linecolor\":\"white\",\"ticks\":\"\"},\"caxis\":{\"gridcolor\":\"white\",\"linecolor\":\"white\",\"ticks\":\"\"}},\"coloraxis\":{\"colorbar\":{\"outlinewidth\":0,\"ticks\":\"\"}},\"colorscale\":{\"sequential\":[[0.0,\"#0d0887\"],[0.1111111111111111,\"#46039f\"],[0.2222222222222222,\"#7201a8\"],[0.3333333333333333,\"#9c179e\"],[0.4444444444444444,\"#bd3786\"],[0.5555555555555556,\"#d8576b\"],[0.6666666666666666,\"#ed7953\"],[0.7777777777777778,\"#fb9f3a\"],[0.8888888888888888,\"#fdca26\"],[1.0,\"#f0f921\"]],\"sequentialminus\":[[0.0,\"#0d0887\"],[0.1111111111111111,\"#46039f\"],[0.2222222222222222,\"#7201a8\"],[0.3333333333333333,\"#9c179e\"],[0.4444444444444444,\"#bd3786\"],[0.5555555555555556,\"#d8576b\"],[0.6666666666666666,\"#ed7953\"],[0.7777777777777778,\"#fb9f3a\"],[0.8888888888888888,\"#fdca26\"],[1.0,\"#f0f921\"]],\"diverging\":[[0,\"#8e0152\"],[0.1,\"#c51b7d\"],[0.2,\"#de77ae\"],[0.3,\"#f1b6da\"],[0.4,\"#fde0ef\"],[0.5,\"#f7f7f7\"],[0.6,\"#e6f5d0\"],[0.7,\"#b8e186\"],[0.8,\"#7fbc41\"],[0.9,\"#4d9221\"],[1,\"#276419\"]]},\"xaxis\":{\"gridcolor\":\"white\",\"linecolor\":\"white\",\"ticks\":\"\",\"title\":{\"standoff\":15},\"zerolinecolor\":\"white\",\"automargin\":true,\"zerolinewidth\":2},\"yaxis\":{\"gridcolor\":\"white\",\"linecolor\":\"white\",\"ticks\":\"\",\"title\":{\"standoff\":15},\"zerolinecolor\":\"white\",\"automargin\":true,\"zerolinewidth\":2},\"scene\":{\"xaxis\":{\"backgroundcolor\":\"#E5ECF6\",\"gridcolor\":\"white\",\"linecolor\":\"white\",\"showbackground\":true,\"ticks\":\"\",\"zerolinecolor\":\"white\",\"gridwidth\":2},\"yaxis\":{\"backgroundcolor\":\"#E5ECF6\",\"gridcolor\":\"white\",\"linecolor\":\"white\",\"showbackground\":true,\"ticks\":\"\",\"zerolinecolor\":\"white\",\"gridwidth\":2},\"zaxis\":{\"backgroundcolor\":\"#E5ECF6\",\"gridcolor\":\"white\",\"linecolor\":\"white\",\"showbackground\":true,\"ticks\":\"\",\"zerolinecolor\":\"white\",\"gridwidth\":2}},\"shapedefaults\":{\"line\":{\"color\":\"#2a3f5f\"}},\"annotationdefaults\":{\"arrowcolor\":\"#2a3f5f\",\"arrowhead\":0,\"arrowwidth\":1},\"geo\":{\"bgcolor\":\"white\",\"landcolor\":\"#E5ECF6\",\"subunitcolor\":\"white\",\"showland\":true,\"showlakes\":true,\"lakecolor\":\"white\"},\"title\":{\"x\":0.05},\"mapbox\":{\"style\":\"light\"}}},\"mapbox\":{\"domain\":{\"x\":[0.0,1.0],\"y\":[0.0,1.0]},\"center\":{\"lat\":37.36454784666666,\"lon\":-77.14262650833332},\"zoom\":8,\"style\":\"carto-positron\"},\"coloraxis\":{\"colorbar\":{\"title\":{\"text\":\"usage\"}},\"colorscale\":[[0.0,\"#0d0887\"],[0.1111111111111111,\"#46039f\"],[0.2222222222222222,\"#7201a8\"],[0.3333333333333333,\"#9c179e\"],[0.4444444444444444,\"#bd3786\"],[0.5555555555555556,\"#d8576b\"],[0.6666666666666666,\"#ed7953\"],[0.7777777777777778,\"#fb9f3a\"],[0.8888888888888888,\"#fdca26\"],[1.0,\"#f0f921\"]]},\"legend\":{\"tracegroupgap\":0,\"itemsizing\":\"constant\"},\"margin\":{\"t\":37,\"b\":20,\"l\":20,\"r\":20},\"title\":{\"text\":\"Overall Usage of the Capital Trail in 2018-2019\",\"x\":0.5}},                        {\"responsive\": true}                    ).then(function(){\n",
       "                            \n",
       "var gd = document.getElementById('2e880b52-d68c-4f8c-bf29-86ec69e51f9a');\n",
       "var x = new MutationObserver(function (mutations, observer) {{\n",
       "        var display = window.getComputedStyle(gd).display;\n",
       "        if (!display || display === 'none') {{\n",
       "            console.log([gd, 'removed!']);\n",
       "            Plotly.purge(gd);\n",
       "            observer.disconnect();\n",
       "        }}\n",
       "}});\n",
       "\n",
       "// Listen for the removal of the full notebook cells\n",
       "var notebookContainer = gd.closest('#notebook-container');\n",
       "if (notebookContainer) {{\n",
       "    x.observe(notebookContainer, {childList: true});\n",
       "}}\n",
       "\n",
       "// Listen for the clearing of the current output cell\n",
       "var outputEl = gd.closest('.output');\n",
       "if (outputEl) {{\n",
       "    x.observe(outputEl, {childList: true});\n",
       "}}\n",
       "\n",
       "                        })                };                });            </script>        </div>"
      ]
     },
     "metadata": {},
     "output_type": "display_data"
    }
   ],
   "source": [
    "import plotly.express as px\n",
    "\n",
    "# Group Data for Vizualiation\n",
    "bubble_scatter_on_map = usage_data.groupby('counter').sum()[['usage', 'lat', 'long']].reset_index()\n",
    "\n",
    "# Remap coordinates since groupby changed them\n",
    "bubble_scatter_on_map['lat'] = bubble_scatter_on_map['counter'].map(lat_map)\n",
    "bubble_scatter_on_map['long'] = bubble_scatter_on_map['counter'].map(long_map)\n",
    "\n",
    "fig = px.scatter_mapbox(bubble_scatter_on_map,\n",
    "                         lat='lat', \n",
    "                         lon='long',\n",
    "                         size='usage', \n",
    "                         color='usage',\n",
    "                         hover_data={'counter': True, 'long':False, 'lat':False})\n",
    "\n",
    "fig.update_layout(mapbox_style='carto-positron', \n",
    "                   title={'text': 'Overall Usage of the Capital Trail in 2018-2019','x':0.5}, \n",
    "                   margin = {'b': 20, 'l':20, 'r':20, 't':37})\n",
    "\n",
    "fig.show()"
   ]
  },
  {
   "cell_type": "markdown",
   "id": "0a1766d7",
   "metadata": {},
   "source": [
    "The majority of Capital Trail usage occurs in Richmond (Almond_Creek) and Williamsburg (Greenspring). Both areas have the largest population density therefore are more heavily trafficked. "
   ]
  },
  {
   "cell_type": "code",
   "execution_count": 29,
   "id": "0d4bf6f7",
   "metadata": {},
   "outputs": [
    {
     "data": {
      "image/png": "[encoded data removed]",
      "text/plain": [
       "<Figure size 432x288 with 1 Axes>"
      ]
     },
     "metadata": {
      "needs_background": "light"
     },
     "output_type": "display_data"
    }
   ],
   "source": [
    "import seaborn as sns\n",
    "\n",
    "# Get data ready for visualization\n",
    "bar_with_categories = usage_data.groupby(['counter', 'year']).sum()[['usage', 'lat', 'long']].reset_index()\n",
    "\n",
    "usage_by_year = sns.barplot(data = bar_with_categories.sort_values('usage'), x='counter', y='usage', hue='year')\n",
    "\n",
    "usage_by_year.set_title('Trail Activity by Year')\n",
    "usage_by_year.set_ylabel('# of Occurences Recorded')\n",
    "usage_by_year.set_xlabel('Counter Location')\n",
    "usage_by_year.tick_params(axis='x', rotation=45)"
   ]
  },
  {
   "cell_type": "markdown",
   "id": "40af1d7a",
   "metadata": {},
   "source": [
    "Seen in a different format, Williamsburg (Greenspring) and Richmond (Almond Creek) have the most occurences recorded. 2018 had substantially lower numbers of occurences than 2019. "
   ]
  },
  {
   "cell_type": "code",
   "execution_count": 30,
   "id": "efd5907b",
   "metadata": {},
   "outputs": [
    {
     "data": {
      "text/plain": [
       "<AxesSubplot:title={'center':'Trail Activity by Month'}, xlabel='month', ylabel='# of Occurences Recorded'>"
      ]
     },
     "execution_count": 30,
     "metadata": {},
     "output_type": "execute_result"
    },
    {
     "data": {
      "image/png": "[encoded data removed]",
      "text/plain": [
       "<Figure size 432x288 with 1 Axes>"
      ]
     },
     "metadata": {
      "needs_background": "light"
     },
     "output_type": "display_data"
    }
   ],
   "source": [
    "# Get data ready for visualization\n",
    "month_viz = usage_data.groupby(['month']).sum()['usage'].reset_index().sort_values('month')\n",
    "\n",
    "month_viz.plot(kind='bar', x='month', y='usage', title='Trail Activity by Month', ylabel='# of Occurences Recorded')"
   ]
  },
  {
   "cell_type": "markdown",
   "id": "1dd544cf",
   "metadata": {},
   "source": [
    "Late spring and early summer (May and June) are the most popular months to visit the Capital Trail. The least popular months are in the winter (December and January). "
   ]
  },
  {
   "cell_type": "code",
   "execution_count": 31,
   "id": "d7623323",
   "metadata": {},
   "outputs": [
    {
     "data": {
      "text/plain": [
       "<AxesSubplot:title={'center':'Trail Activity by Day'}, xlabel='day_name', ylabel='# of Occurences Recorded'>"
      ]
     },
     "execution_count": 31,
     "metadata": {},
     "output_type": "execute_result"
    },
    {
     "data": {
      "image/png": "[encoded data removed]",
      "text/plain": [
       "<Figure size 432x288 with 1 Axes>"
      ]
     },
     "metadata": {
      "needs_background": "light"
     },
     "output_type": "display_data"
    }
   ],
   "source": [
    "# Get data ready for visualization\n",
    "day_of_week = usage_data.groupby(['day_name', 'day_number']).sum()['usage'].reset_index().sort_values('day_number')\n",
    "\n",
    "day_of_week.plot(kind='bar', x='day_name', y='usage', title='Trail Activity by Day', ylabel='# of Occurences Recorded')"
   ]
  },
  {
   "cell_type": "markdown",
   "id": "95077d7e",
   "metadata": {},
   "source": [
    "Weekends (Saturday and Sunday) are the most popular time for the trail to be used. During the work week, the level of usage is consistent. "
   ]
  },
  {
   "cell_type": "code",
   "execution_count": 32,
   "id": "e8065350",
   "metadata": {},
   "outputs": [
    {
     "data": {
      "text/plain": [
       "<AxesSubplot:title={'center':'Trail Activity by Hour'}, xlabel='hour', ylabel='# of Occurences Recorded'>"
      ]
     },
     "execution_count": 32,
     "metadata": {},
     "output_type": "execute_result"
    },
    {
     "data": {
      "image/png": "[encoded data removed]",
      "text/plain": [
       "<Figure size 432x288 with 1 Axes>"
      ]
     },
     "metadata": {
      "needs_background": "light"
     },
     "output_type": "display_data"
    }
   ],
   "source": [
    "# Get data ready for visualization\n",
    "hour_viz = usage_data.groupby(['hour']).sum()['usage'].reset_index().sort_values('hour')\n",
    "\n",
    "hour_viz.plot(kind='bar', x='hour', y='usage', title='Trail Activity by Hour', ylabel='# of Occurences Recorded')"
   ]
  },
  {
   "cell_type": "markdown",
   "id": "68b3db95",
   "metadata": {},
   "source": [
    "The most popular times to visit the Capital Trail are between 9am - 5pm. "
   ]
  },
  {
   "cell_type": "code",
   "execution_count": 33,
   "id": "ef3b6011",
   "metadata": {},
   "outputs": [
    {
     "data": {
      "text/plain": [
       "Text(0.5, 1.0, 'Correlation Map of Merged Data')"
      ]
     },
     "execution_count": 33,
     "metadata": {},
     "output_type": "execute_result"
    },
    {
     "data": {
      "image/png": "[encoded data removed]",
      "text/plain": [
       "<Figure size 432x288 with 2 Axes>"
      ]
     },
     "metadata": {
      "needs_background": "light"
     },
     "output_type": "display_data"
    }
   ],
   "source": [
    "heatmap = sns.heatmap(data_full.corr(), cmap='copper', annot=True)\n",
    "heatmap.set_title('Correlation Map of Merged Data')"
   ]
  },
  {
   "cell_type": "markdown",
   "id": "f85fda99",
   "metadata": {},
   "source": [
    "Capital Trail usage has the highest positive correlation (0.41) with the average temperature. This means that the higher the temperature the more activity the Capital Trail sees. Capital Trail usage has the highest negative correlation (-0.21) with the amount of precipitation. Therefore more precipitation means less activity on the Capital Trail."
   ]
  },
  {
   "cell_type": "code",
   "execution_count": 34,
   "id": "fdbc3b5d",
   "metadata": {},
   "outputs": [
    {
     "name": "stdout",
     "output_type": "stream",
     "text": [
      "                            OLS Regression Results                            \n",
      "==============================================================================\n",
      "Dep. Variable:                  usage   R-squared:                       0.220\n",
      "Model:                            OLS   Adj. R-squared:                  0.216\n",
      "Method:                 Least Squares   F-statistic:                     52.26\n",
      "Date:                Sun, 09 Oct 2022   Prob (F-statistic):           1.01e-20\n",
      "Time:                        21:05:18   Log-Likelihood:                -3383.1\n",
      "No. Observations:                 374   AIC:                             6772.\n",
      "Df Residuals:                     371   BIC:                             6784.\n",
      "Df Model:                           2                                         \n",
      "Covariance Type:            nonrobust                                         \n",
      "=======================================================================================\n",
      "                          coef    std err          t      P>|t|      [0.025      0.975]\n",
      "---------------------------------------------------------------------------------------\n",
      "const                -918.9292    491.404     -1.870      0.062   -1885.215      47.357\n",
      "Precipitation       -1398.8283    273.236     -5.119      0.000   -1936.113    -861.544\n",
      "Average Temperature    67.9455      7.454      9.115      0.000      53.288      82.603\n",
      "==============================================================================\n",
      "Omnibus:                       70.191   Durbin-Watson:                   1.581\n",
      "Prob(Omnibus):                  0.000   Jarque-Bera (JB):              105.794\n",
      "Skew:                           1.212   Prob(JB):                     1.06e-23\n",
      "Kurtosis:                       3.958   Cond. No.                         305.\n",
      "==============================================================================\n",
      "\n",
      "Notes:\n",
      "[1] Standard Errors assume that the covariance matrix of the errors is correctly specified.\n"
     ]
    },
    {
     "name": "stderr",
     "output_type": "stream",
     "text": [
      "C:\\Users\\wpriddy\\Anaconda3\\lib\\site-packages\\statsmodels\\tsa\\tsatools.py:142: FutureWarning:\n",
      "\n",
      "In a future version of pandas all arguments of concat except for the argument 'objs' will be keyword-only\n",
      "\n"
     ]
    }
   ],
   "source": [
    "import statsmodels.api as sm\n",
    "\n",
    "# Create the Model\n",
    "x = sm.add_constant(data_full[['Precipitation', 'Average Temperature']])\n",
    " \n",
    "# Fit & Predict\n",
    "model = sm.OLS(data_full['usage'], x).fit()\n",
    "predictions = model.predict() \n",
    " \n",
    "# View Results\n",
    "print_model = model.summary()\n",
    "print(print_model)"
   ]
  },
  {
   "cell_type": "markdown",
   "id": "f1566549",
   "metadata": {},
   "source": [
    "**R$^2$:**\n",
    "\n",
    "The R$^2$ of this multiple variable linear regression is 0.222. The adjusted R$^2$ is 0.215 meaning there no erroneous variables skewing the analysis.  While a seemingly lower R$^2$, this says that the weather accounts for 22% of the variance of Capital Trail usage. \n",
    "\n",
    "If population were added to this regression, my assumption would be that the R$^2$ and adjusted R$^2$ would increase substantially.\n",
    "\n",
    "**Coefficifients & p values:**\n",
    "\n",
    "Precipitation is statistically significant at the 99% confidence level. This indicates that an increase of one unit of precipitation results in a decrease of approximately 1398 less occurences on the Capital Trail. \n",
    "\n",
    "Average temperature is also statistically significant at the 99% confidence level. This indicates an increase in one unit of temperature results in approximately 67 more occurences on the Capital Trail. "
   ]
  },
  {
   "cell_type": "markdown",
   "id": "f26f9b2c",
   "metadata": {},
   "source": [
    "### 2. Interpretation of Results"
   ]
  },
  {
   "cell_type": "markdown",
   "id": "7a4f8666",
   "metadata": {},
   "source": [
    "The result of this research provides insight into the driving factors of Capital Trail usage. Having insights into what causes trail usage could help the Virginia Capital Trail Foundation indentify: areas which will need more repairs, what time and days are best for trail maintenance, what months might be best for maintenance, the style of user on the trail (thru-biker/hiker vs section-biker/hiker), and how the weather impacts trail usage. "
   ]
  },
  {
   "cell_type": "markdown",
   "id": "c508d2ba",
   "metadata": {},
   "source": [
    "#### Citations\n",
    "K. Jordan. Capital Trail Usage by Hour, Virginia Open Data Portal. September 29, 2022\n",
    "\n",
    "https://data.virginia.gov/Datathon-2020/Capital-Trail-Usage-by-Hour/ryby-ewy7\n",
    "\n",
    "K. Jordan. Capital Trail Counters - geolocation, Virginia Open Data Portal. October 2, 2022\n",
    "\n",
    "https://data.virginia.gov/Datathon-2020/Capital-Trail-Counters-geolocation/yv9b-k8uu\n",
    "\n",
    "NOAA Datasets. Average Daily Weather. October 5th, 2022\n",
    "\n",
    "https://www.ncdc.noaa.gov/cdo-web/webservices/v2"
   ]
  }
 ],
 "metadata": {
  "kernelspec": {
   "display_name": "Python 3 (ipykernel)",
   "language": "python",
   "name": "python3"
  },
  "language_info": {
   "codemirror_mode": {
    "name": "ipython",
    "version": 3
   },
   "file_extension": ".py",
   "mimetype": "text/x-python",
   "name": "python",
   "nbconvert_exporter": "python",
   "pygments_lexer": "ipython3",
   "version": "3.9.7"
  }
 },
 "nbformat": 4,
 "nbformat_minor": 5
}
